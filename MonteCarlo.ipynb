{
 "cells": [
  {
   "cell_type": "markdown",
   "metadata": {},
   "source": [
    "# Użycie metody Monte Carlo do symulacji ruchów Browna\n",
    "\n",
    "\n",
    "30-06-2020 Tomasz Solga - 108138\n",
    "---"
   ]
  },
  {
   "cell_type": "markdown",
   "metadata": {},
   "source": [
    "### Program wykorzystujący generator liczb pseudolosowych do symulacji ruchów Browna\n",
    "1. [Pobranie liczby n ruchów cząsteczki](#input)  \n",
    "2. [Algorytm](#algorithm)\n",
    "3. [Długość wektora przesunięcia cząsteczki po *n* krokach](#vector)\n",
    "4. [Graficzna reprezentacja trajektorii przemieszczenia cząsteczki](#chart)\n",
    "5. [Wymagane zależności](#required)\n",
    "<br> <br>\n",
    "### W celu uruchomienia programu klikamy na pasku narzędzi *Kernel > Restart & Run All* oraz potwierdzamy akcję.<br>"
   ]
  },
  {
   "cell_type": "markdown",
   "metadata": {},
   "source": [
    "### Wprowadzenie\n",
    "Twórcą teorii jest Robert brown. W 1828 roku opublikował sprawozdanie w którym opisał wieloletnie obserwacje pod mikroskopem. Zaobserbował iż drobiny kurzu, pyłki kwiatowe, i inne małe obiekty badań zawieszone w wodzie i innych płynach wykonują nieustanne oraz nieregularne ruchy samoczynnie. <br> \n",
    "Za pomocą symulacji komputerowej zaprezentujemy przykładową trajektorię cząsteczki pływającej po powierzchni cieczy, oraz obliczymy przemieszczenie tej cząsteczki w określonym czasie. Doświadczenie wykonamy w przestrzeni dwuwymiarowej(2D), oraz do rozmieszczenia danych użyjemy kartezjańskiego układu współrzędnych. Zakładamy, że w każdym kroku cząsteczka przemieszcza się w dowolnym kierunku o wektor stałej długości (1) - dla uproszczenia."
   ]
  },
  {
   "cell_type": "markdown",
   "metadata": {},
   "source": [
    "<a name = \"intro\"></a>\n",
    "Metody Monte carlo to ogólna nazwa metod rozwiązywania problemów występujących w różnych dziedzinach, np. fizyka, matematyka, ekonomia, wykorzystując generator liczb pseudolosowych.\n",
    "Problem będzie rozwiązywany w języku python następująco: cząsteczka startuje w punkcie (0, 0) i w tym punkcie tworzymy arkusz z danymi. Kolejnym krokiem jest losowanie kąta kierunku przemieszczenia cząsteczki - obliczanie za pomocą generatora liczb pseudolosowych z przedziału <0; 2π> i przemieszczenie jej w tym kierunku. Nowy punkt zostaje dopisany do arkusza z danymi. Pętla jest powtarzana *n* razy, gdzie *n* to ilość ruchów cząsteczki. Po *n* ruchach wyznaczamy położenie cząsteczki po *n* krokach, oraz wyznaczamy długość wektora przesunięcia cząsteczki po *n* krokach\n",
    "$$\\vec{\\mathbf{|S|}}=\\sqrt({x_n^2}+{y_n^2})$$ <br>\n",
    "Następnie dla wyznaczenia współrzędnych: <br>\n",
    "$$x_k = x_{k-1} + r * cos⁡φ $$ <br>\n",
    "$$y_k = y_{k-1} + r * cos⁡φ $$ <br>\n",
    "gdzie k = 0, 1, 2, ..., n; r = 1(długość jednego kroku); φ kąt kierunku ruchu cząsteczki.\n"
   ]
  },
  {
   "cell_type": "markdown",
   "metadata": {},
   "source": [
    "<br><br>\n",
    "# Program\n",
    "<br>\n",
    "- Wczytanie bibliotek wymaganych do poprawnego działania programu."
   ]
  },
  {
   "cell_type": "code",
   "execution_count": 1,
   "metadata": {},
   "outputs": [],
   "source": [
    "import math\n",
    "from random import uniform\n",
    "import matplotlib.pyplot as plt\n",
    "import pandas as pd\n",
    "import xlsxwriter\n",
    "import watermark"
   ]
  },
  {
   "cell_type": "markdown",
   "metadata": {},
   "source": [
    "- Wstępna inicjalizacja zmiennych oraz stałych."
   ]
  },
  {
   "cell_type": "code",
   "execution_count": 2,
   "metadata": {},
   "outputs": [],
   "source": [
    "variableInitialization = lambda counter: [0 for _ in range(counter)]\n",
    "x, y, s, fi = variableInitialization(4)\n",
    "PI = 3.14159\n",
    "i = 3"
   ]
  },
  {
   "cell_type": "markdown",
   "metadata": {},
   "source": [
    "<a name = \"input\"></a>\n",
    "## 1. Pobranie liczby ruchów cząsteczki\n",
    "\n",
    "- pobranie ilości ruchów przesunięć cząsteczki (n)\n",
    "- optymalna ilość <= 50tys\n",
    "- dla większych wartości czas działania wydłuża się, należy wziąć pod uwagę konieczność naniesienia wszystkich punktów na wykres co jest czasochłonne, aczkolwiek czas wykonania programu dla n = 500tys oscyluje w okolicach 4minut\n",
    "\n",
    "Orientacyjne czasy wykonania\n",
    "- 10 tys ruchów = 5s\n",
    "- 50 tys ruchów = 20s\n",
    "- 100 tys ruchów = 45s\n",
    "- 500 tys ruchów = 245s"
   ]
  },
  {
   "cell_type": "code",
   "execution_count": 3,
   "metadata": {
    "scrolled": true
   },
   "outputs": [
    {
     "name": "stdout",
     "output_type": "stream",
     "text": [
      "Ilość ruchów? 10\n"
     ]
    }
   ],
   "source": [
    "n = int(input(\"Ilość ruchów? \"))"
   ]
  },
  {
   "cell_type": "markdown",
   "metadata": {},
   "source": [
    "- Stworzenie pliku danych `test.xlsx` \n",
    "- Inicjacja wyjściowych współrzędnych (0, 0)"
   ]
  },
  {
   "cell_type": "code",
   "execution_count": 4,
   "metadata": {},
   "outputs": [
    {
     "data": {
      "text/plain": [
       "0"
      ]
     },
     "execution_count": 4,
     "metadata": {},
     "output_type": "execute_result"
    }
   ],
   "source": [
    "workbook = xlsxwriter.Workbook('test.xlsx')\n",
    "worksheet = workbook.add_worksheet()\n",
    "worksheet.write('A' + str(1), 'x')\n",
    "worksheet.write('B' + str(1), 'y')\n",
    "worksheet.write('A' + str(2), 0)\n",
    "worksheet.write('B' + str(2), 0)"
   ]
  },
  {
   "cell_type": "markdown",
   "metadata": {},
   "source": [
    "<a name = \"algorithm\"></a>\n",
    "## 2. Algorytm\n",
    "- działanie algorytmu zostało szczegółowo opisane we [wstępie](#intro)"
   ]
  },
  {
   "cell_type": "code",
   "execution_count": 5,
   "metadata": {},
   "outputs": [
    {
     "name": "stdout",
     "output_type": "stream",
     "text": [
      "2.084888772833266\n",
      "-0.4917448086974514\n",
      "0.8707393657800863\n",
      "4.297026617957137\n",
      "-0.895266316376474\n",
      "-0.04423079375543015\n",
      "2.085713870269946\n",
      "-1.387729402424702\n",
      "0.8261025382960636\n",
      "4.24271143646672\n",
      "-1.8403281726465903\n",
      "-0.06561173948221344\n",
      "1.6860665005144773\n",
      "-1.9553432460129785\n",
      "0.9277520070369175\n",
      "5.753183489573978\n",
      "-1.0925370943598791\n",
      "0.422217097589935\n",
      "3.036786594501139\n",
      "-2.087049964803125\n",
      "0.5268313916550202\n",
      "5.285482919779569\n",
      "-1.5448157124325257\n",
      "-0.31339596778770673\n",
      "0.8382452040072622\n",
      "-0.876047218160765\n",
      "0.43007474519934974\n"
     ]
    }
   ],
   "source": [
    "while i <= n+1:\n",
    "    fi = uniform(0, 32767) / (32767 + 1) * 2 * PI\n",
    "    # 0-32767 / ( 32767 + 1) * 2 * PI\n",
    "    x += math.cos(fi)\n",
    "    y += math.sin(fi)\n",
    "\n",
    "    print(fi)\n",
    "    print(x)\n",
    "    print(y)\n",
    "\n",
    "    worksheet.write('A' + str(i), x)\n",
    "    worksheet.write('B' + str(i), y)\n",
    "    i += 1\n"
   ]
  },
  {
   "cell_type": "markdown",
   "metadata": {},
   "source": [
    "<a name = \"vector\"></a>\n",
    "## 3. Obliczenie wektora przesunięcia cząsteczki po *n* krokach\n",
    "- wyznaczanie długości wektora przesunięcia cząsteczki po *n* krokach"
   ]
  },
  {
   "cell_type": "code",
   "execution_count": 6,
   "metadata": {},
   "outputs": [
    {
     "name": "stdout",
     "output_type": "stream",
     "text": [
      "\n",
      "\n",
      "\n",
      "Czasteczka po 10 krokach przemiescila sie o odleglosc 0.9759216233414959\n",
      "\n",
      "\n",
      "\n"
     ]
    }
   ],
   "source": [
    "s = math.sqrt(x*x + y*y)\n",
    "print(\"\\n\\n\\nCzasteczka po \" + str(n) + \" krokach przemiescila sie o odleglosc \" + str(s) + \"\\n\\n\\n\")"
   ]
  },
  {
   "cell_type": "code",
   "execution_count": 7,
   "metadata": {},
   "outputs": [],
   "source": [
    "workbook.close()"
   ]
  },
  {
   "cell_type": "markdown",
   "metadata": {},
   "source": [
    "<a name = \"chart\"></a>\n",
    "## 4. Graficzna reprezentacja trajektorii przemieszczenia cząsteczki\n",
    "- wykorzystanie biblioteki matplotolib do wizualizacji arkusza danych\n",
    "- stworzenie wykresu układu 2D x, y<br>\n",
    "df - data frame"
   ]
  },
  {
   "cell_type": "code",
   "execution_count": 8,
   "metadata": {},
   "outputs": [
    {
     "data": {
      "image/png": "[encoded data removed]",
      "text/plain": [
       "<Figure size 432x288 with 1 Axes>"
      ]
     },
     "metadata": {
      "needs_background": "light"
     },
     "output_type": "display_data"
    }
   ],
   "source": [
    "df = pd.read_excel('test.xlsx', 'Sheet1')\n",
    "plt.plot(df['x'], df['y'])\n",
    "plt.xlabel('x')\n",
    "plt.ylabel('y')\n",
    "plt.title('Symulacja ruchu cząsteczki ' + '(' + str(n) + ' ruchów)')\n",
    "plt.show()"
   ]
  },
  {
   "cell_type": "markdown",
   "metadata": {},
   "source": [
    "<a name = \"required\"></a>\n",
    "## 5. Wymagane zależności\n",
    "\n",
    "W programie wykorzystujemy biblioteki zewnętrzne w celu ulepszenia czytelności kodu, oraz redukcji czasu wymaganego do napisania użytych funkcji. <br>\n",
    "- biblioteka pandas oraz matplotlib do pracy nad wykresem\n",
    "- biblioteka xlsxwriter oraz xlrd do pracy z plikami xls\n",
    "- biblioteka watermark na potrzeby wyeksportowania ustawień do zewnętrznego repozytorium i utworzenia środowiska programu online"
   ]
  },
  {
   "cell_type": "code",
   "execution_count": 9,
   "metadata": {},
   "outputs": [
    {
     "name": "stdout",
     "output_type": "stream",
     "text": [
      "CPython 3.8.3\n",
      "IPython 7.15.0\n",
      "\n",
      "pandas 1.0.5\n",
      "matplotlib 3.2.2\n",
      "xlsxwriter 1.2.9\n",
      "xlrd 1.2.0\n",
      "watermark 2.0.2\n",
      "\n",
      "compiler   : MSC v.1924 64 bit (AMD64)\n",
      "system     : Windows\n",
      "release    : 10\n",
      "machine    : AMD64\n",
      "processor  : Intel64 Family 6 Model 94 Stepping 3, GenuineIntel\n",
      "CPU cores  : 8\n",
      "interpreter: 64bit\n"
     ]
    }
   ],
   "source": [
    "%load_ext watermark\n",
    "%watermark -v -m -p pandas,matplotlib,xlsxwriter,xlrd,watermark"
   ]
  }
 ],
 "metadata": {
  "kernelspec": {
   "display_name": "Python 3",
   "language": "python",
   "name": "python3"
  },
  "language_info": {
   "codemirror_mode": {
    "name": "ipython",
    "version": 3
   },
   "file_extension": ".py",
   "mimetype": "text/x-python",
   "name": "python",
   "nbconvert_exporter": "python",
   "pygments_lexer": "ipython3",
   "version": "3.8.3"
  }
 },
 "nbformat": 4,
 "nbformat_minor": 2
}
