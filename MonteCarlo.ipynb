{
 "cells": [
  {
   "cell_type": "markdown",
   "metadata": {},
   "source": [
    "# Użycie metody Monte Carlo do symulacji ruchów Browna\n",
    "\n",
    "\n",
    "30-06-2020 Tomasz Solga - 108138\n",
    "---"
   ]
  },
  {
   "cell_type": "markdown",
   "metadata": {},
   "source": [
    "### Program wykorzystujący generator liczb pseudolosowych do symulacji ruchów Browna\n",
    "1. [Pobranie liczby n ruchów cząsteczki](#input)  \n",
    "2. [Algorytm](#algorithm)\n",
    "3. [Długość wektora przesunięcia cząsteczki po *n* krokach](#vector)\n",
    "4. [Graficzna reprezentacja trajektorii przemieszczenia cząsteczki](#chart)\n",
    "5. [Wymagane zależności](#required)\n",
    "<br> <br>\n",
    "### W celu uruchomienia programu klikamy na pasku narzędzi *Kernel > Restart & Run All* oraz potwierdzamy akcję.<br>"
   ]
  },
  {
   "cell_type": "markdown",
   "metadata": {},
   "source": [
    "### Wprowadzenie\n",
    "Twórcą teorii jest Robert brown. W 1828 roku opublikował sprawozdanie w którym opisał wieloletnie obserwacje pod mikroskopem. Zaobserbował iż drobiny kurzu, pyłki kwiatowe, i inne małe obiekty badań zawieszone w wodzie i innych płynach wykonują nieustanne oraz nieregularne ruchy samoczynnie. <br> \n",
    "Za pomocą symulacji komputerowej zaprezentujemy przykładową trajektorię cząsteczki pływającej po powierzchni cieczy, oraz obliczymy przemieszczenie tej cząsteczki w określonym czasie. Doświadczenie wykonamy w przestrzeni dwuwymiarowej(2D), oraz do rozmieszczenia danych użyjemy kartezjańskiego układu współrzędnych. Zakładamy, że w każdym kroku cząsteczka przemieszcza się w dowolnym kierunku o wektor stałej długości (1) - dla uproszczenia."
   ]
  },
  {
   "cell_type": "markdown",
   "metadata": {},
   "source": [
    "<a name = \"intro\"></a>\n",
    "Metody Monte carlo to ogólna nazwa metod rozwiązywania problemów występujących w różnych dziedzinach, np. fizyka, matematyka, ekonomia, wykorzystując generator liczb pseudolosowych.\n",
    "Problem będzie rozwiązywany w języku python następująco: cząsteczka startuje w punkcie (0, 0) i w tym punkcie tworzymy arkusz z danymi. Kolejnym krokiem jest losowanie kąta kierunku przemieszczenia cząsteczki - obliczanie za pomocą generatora liczb pseudolosowych z przedziału <0; 2π> i przemieszczenie jej w tym kierunku. Nowy punkt zostaje dopisany do arkusza z danymi. Pętla jest powtarzana *n* razy, gdzie *n* to ilość ruchów cząsteczki. Po *n* ruchach wyznaczamy położenie cząsteczki po *n* krokach, oraz wyznaczamy długość wektora przesunięcia cząsteczki po *n* krokach\n",
    "$$\\vec{\\mathbf{|S|}}=\\sqrt({x_n^2}+{y_n^2})$$ <br>\n",
    "Następnie dla wyznaczenia współrzędnych: <br>\n",
    "$$x_k = x_{k-1} + r * cos⁡φ $$ <br>\n",
    "$$y_k = y_{k-1} + r * cos⁡φ $$ <br>\n",
    "gdzie k = 0, 1, 2, ..., n; r = 1(długość jednego kroku); φ kąt kierunku ruchu cząsteczki.\n"
   ]
  },
  {
   "cell_type": "markdown",
   "metadata": {},
   "source": [
    "<br><br>\n",
    "# Program\n",
    "<br>\n",
    "- Wczytanie bibliotek wymaganych do poprawnego działania programu."
   ]
  },
  {
   "cell_type": "code",
   "execution_count": 1,
   "metadata": {},
   "outputs": [],
   "source": [
    "import math\n",
    "from random import uniform\n",
    "import matplotlib.pyplot as plt\n",
    "import pandas as pd\n",
    "import xlsxwriter\n",
    "import watermark"
   ]
  },
  {
   "cell_type": "markdown",
   "metadata": {},
   "source": [
    "- Wstępna inicjalizacja zmiennych oraz stałych."
   ]
  },
  {
   "cell_type": "code",
   "execution_count": 2,
   "metadata": {},
   "outputs": [],
   "source": [
    "variableInitialization = lambda counter: [0 for _ in range(counter)]\n",
    "x, y, s, fi = variableInitialization(4)\n",
    "PI = 3.14159\n",
    "i = 3"
   ]
  },
  {
   "cell_type": "markdown",
   "metadata": {},
   "source": [
    "<a name = \"input\"></a>\n",
    "## 1. Pobranie liczby ruchów cząsteczki\n",
    "\n",
    "- pobranie ilości ruchów przesunięć cząsteczki (n)\n",
    "- optymalna ilość <= 50tys\n",
    "- dla większych wartości czas działania wydłuża się, należy wziąć pod uwagę konieczność naniesienia wszystkich punktów na wykres co jest czasochłonne, aczkolwiek czas wykonania programu dla n = 500tys oscyluje w okolicach 4minut\n",
    "\n",
    "Orientacyjne czasy wykonania\n",
    "- 10 tys ruchów = 5s\n",
    "- 50 tys ruchów = 20s\n",
    "- 100 tys ruchów = 45s\n",
    "- 500 tys ruchów = 245s"
   ]
  },
  {
   "cell_type": "code",
   "execution_count": 3,
   "metadata": {
    "scrolled": true
   },
   "outputs": [
    {
     "name": "stdout",
     "output_type": "stream",
     "text": [
      "Ilość ruchów? 50\n"
     ]
    }
   ],
   "source": [
    "n = int(input(\"Ilość ruchów? \"))"
   ]
  },
  {
   "cell_type": "markdown",
   "metadata": {},
   "source": [
    "- Stworzenie pliku danych `test.xlsx` \n",
    "- Inicjacja wyjściowych współrzędnych (0, 0)"
   ]
  },
  {
   "cell_type": "code",
   "execution_count": 4,
   "metadata": {},
   "outputs": [
    {
     "data": {
      "text/plain": [
       "0"
      ]
     },
     "execution_count": 4,
     "metadata": {},
     "output_type": "execute_result"
    }
   ],
   "source": [
    "workbook = xlsxwriter.Workbook('test.xlsx')\n",
    "worksheet = workbook.add_worksheet()\n",
    "worksheet.write('A' + str(1), 'x')\n",
    "worksheet.write('B' + str(1), 'y')\n",
    "worksheet.write('A' + str(2), 0)\n",
    "worksheet.write('B' + str(2), 0)"
   ]
  },
  {
   "cell_type": "markdown",
   "metadata": {},
   "source": [
    "<a name = \"algorithm\"></a>\n",
    "## 2. Algorytm\n",
    "- działanie algorytmu zostało szczegółowo opisane we [wstępie](#intro)"
   ]
  },
  {
   "cell_type": "code",
   "execution_count": 5,
   "metadata": {},
   "outputs": [
    {
     "name": "stdout",
     "output_type": "stream",
     "text": [
      "x:\t-0.8700081261498266\ty:\t-0.4930373823892743\n",
      "x:\t-0.46663001204688487\ty:\t0.4219960033747393\n",
      "x:\t0.12896474646364237\ty:\t1.225281060894663\n",
      "x:\t0.9931282865729503\ty:\t1.7284921259019306\n",
      "x:\t1.9757691775700104\ty:\t1.9140099938837076\n",
      "x:\t2.2344465173955017\ty:\t0.9480462089203131\n",
      "x:\t3.063029834647214\ty:\t1.5079119842380662\n",
      "x:\t3.765504472502609\ty:\t2.219620761175608\n",
      "x:\t4.153794424056116\ty:\t1.298083505540994\n",
      "x:\t3.2367689353760363\ty:\t1.6969121067107964\n",
      "x:\t2.6482285818892124\ty:\t0.8884442642349163\n",
      "x:\t1.999523300374251\ty:\t0.12740454271271173\n",
      "x:\t2.9961876706563206\ty:\t0.20901418068669864\n",
      "x:\t2.9729673207838094\ty:\t1.2087445520127869\n",
      "x:\t3.7217465483653025\ty:\t0.5459250680335797\n",
      "x:\t4.342268498033852\ty:\t1.3301141459857924\n",
      "x:\t3.387072485688009\ty:\t1.626088094161303\n",
      "x:\t2.6147307479995465\ty:\t0.990880852212373\n",
      "x:\t2.9437000435734424\ty:\t0.04654023433680232\n",
      "x:\t3.030223754234617\ty:\t-0.9497095573788202\n",
      "x:\t2.343940528298169\ty:\t-1.6770439603863108\n",
      "x:\t1.4259181758757027\ty:\t-2.073572598006245\n",
      "x:\t2.0464649430903536\ty:\t-1.289403158599527\n",
      "x:\t2.5689457258594617\ty:\t-2.1420542194896077\n",
      "x:\t3.311324801376536\ty:\t-1.4720741390137673\n",
      "x:\t4.256491062179507\ty:\t-1.1454845809447285\n",
      "x:\t4.6738745571116835\ty:\t-0.23675413787692756\n",
      "x:\t5.425957450228461\ty:\t0.42231438806032073\n",
      "x:\t6.423371560847058\ty:\t0.3504458139899148\n",
      "x:\t7.408677379015845\ty:\t0.521245242217109\n",
      "x:\t8.393916601810592\ty:\t0.3500620833877334\n",
      "x:\t9.212415939022517\ty:\t-0.22444538826397614\n",
      "x:\t8.977492729380165\ty:\t-1.1964593210711842\n",
      "x:\t9.28339879808841\ty:\t-2.1485210192438746\n",
      "x:\t10.134741833912859\ty:\t-1.623911607058762\n",
      "x:\t9.539625021566225\ty:\t-2.4275508169423894\n",
      "x:\t10.387628495432255\ty:\t-2.9575414850782984\n",
      "x:\t10.219331356698333\ty:\t-3.9432777952008253\n",
      "x:\t9.700150259565985\ty:\t-4.797942049970176\n",
      "x:\t8.829700821380403\ty:\t-5.29019988440494\n",
      "x:\t8.654788787507256\ty:\t-6.274783949077103\n",
      "x:\t7.664633077413502\ty:\t-6.134813703064839\n",
      "x:\t7.629561113273775\ty:\t-5.135428913641174\n",
      "x:\t7.66902554052007\ty:\t-4.136207937589269\n",
      "x:\t6.7152475871706745\ty:\t-4.436720193087507\n",
      "x:\t6.607513814508997\ty:\t-5.430899972718979\n",
      "x:\t6.882077088341052\ty:\t-4.4693309379312405\n",
      "x:\t6.189172291083181\ty:\t-5.190360023292593\n",
      "x:\t5.210834169997276\ty:\t-5.397373358201487\n"
     ]
    }
   ],
   "source": [
    "while i <= n+1:\n",
    "    fi = uniform(0, 32767) / (32767 + 1) * 2 * PI\n",
    "    # 0-32767 / ( 32767 + 1) * 2 * PI\n",
    "    x += math.cos(fi)\n",
    "    y += math.sin(fi)\n",
    "\n",
    "    \n",
    "    print(\"x:\\t\" + str(x) + \"\\ty:\\t\" + str(y))\n",
    "    \n",
    "\n",
    "    worksheet.write('A' + str(i), x)\n",
    "    worksheet.write('B' + str(i), y)\n",
    "    i += 1\n"
   ]
  },
  {
   "cell_type": "markdown",
   "metadata": {},
   "source": [
    "<a name = \"vector\"></a>\n",
    "## 3. Obliczenie wektora przesunięcia cząsteczki po *n* krokach\n",
    "- wyznaczanie długości wektora przesunięcia cząsteczki po *n* krokach"
   ]
  },
  {
   "cell_type": "code",
   "execution_count": 6,
   "metadata": {},
   "outputs": [
    {
     "name": "stdout",
     "output_type": "stream",
     "text": [
      "\n",
      "\n",
      "\n",
      "Czasteczka po 50 krokach przemiescila sie o odleglosc 7.502295109833684\n",
      "\n",
      "\n",
      "\n"
     ]
    }
   ],
   "source": [
    "s = math.sqrt(x*x + y*y)\n",
    "print(\"\\n\\n\\nCzasteczka po \" + str(n) + \" krokach przemiescila sie o odleglosc \" + str(s) + \"\\n\\n\\n\")"
   ]
  },
  {
   "cell_type": "code",
   "execution_count": 7,
   "metadata": {},
   "outputs": [],
   "source": [
    "workbook.close()"
   ]
  },
  {
   "cell_type": "markdown",
   "metadata": {},
   "source": [
    "<a name = \"chart\"></a>\n",
    "## 4. Graficzna reprezentacja trajektorii przemieszczenia cząsteczki\n",
    "- wykorzystanie biblioteki matplotolib do wizualizacji arkusza danych\n",
    "- stworzenie wykresu układu 2D x, y<br>\n",
    "df - data frame"
   ]
  },
  {
   "cell_type": "code",
   "execution_count": 8,
   "metadata": {},
   "outputs": [
    {
     "data": {
      "image/png": "[encoded data removed]",
      "text/plain": [
       "<Figure size 432x288 with 1 Axes>"
      ]
     },
     "metadata": {
      "needs_background": "light"
     },
     "output_type": "display_data"
    }
   ],
   "source": [
    "df = pd.read_excel('test.xlsx', 'Sheet1')\n",
    "plt.plot(df['x'], df['y'])\n",
    "plt.xlabel('x')\n",
    "plt.ylabel('y')\n",
    "plt.title('Symulacja ruchu cząsteczki ' + '(' + str(n) + ' ruchów)')\n",
    "plt.show()"
   ]
  },
  {
   "cell_type": "markdown",
   "metadata": {},
   "source": [
    "<a name = \"required\"></a>\n",
    "## 5. Wymagane zależności\n",
    "\n",
    "W programie wykorzystujemy biblioteki zewnętrzne w celu ulepszenia czytelności kodu, oraz redukcji czasu wymaganego do napisania użytych funkcji. <br>\n",
    "- biblioteka pandas oraz matplotlib do pracy nad wykresem\n",
    "- biblioteka xlsxwriter oraz xlrd do pracy z plikami xls\n",
    "- biblioteka watermark na potrzeby wyeksportowania ustawień do zewnętrznego repozytorium i utworzenia środowiska programu online"
   ]
  },
  {
   "cell_type": "code",
   "execution_count": 9,
   "metadata": {},
   "outputs": [
    {
     "name": "stdout",
     "output_type": "stream",
     "text": [
      "CPython 3.8.3\n",
      "IPython 7.15.0\n",
      "\n",
      "pandas 1.0.5\n",
      "matplotlib 3.2.2\n",
      "xlsxwriter 1.2.9\n",
      "xlrd 1.2.0\n",
      "watermark 2.0.2\n",
      "\n",
      "compiler   : MSC v.1924 64 bit (AMD64)\n",
      "system     : Windows\n",
      "release    : 10\n",
      "machine    : AMD64\n",
      "processor  : Intel64 Family 6 Model 94 Stepping 3, GenuineIntel\n",
      "CPU cores  : 8\n",
      "interpreter: 64bit\n"
     ]
    }
   ],
   "source": [
    "%load_ext watermark\n",
    "%watermark -v -m -p pandas,matplotlib,xlsxwriter,xlrd,watermark"
   ]
  }
 ],
 "metadata": {
  "kernelspec": {
   "display_name": "Python 3",
   "language": "python",
   "name": "python3"
  },
  "language_info": {
   "codemirror_mode": {
    "name": "ipython",
    "version": 3
   },
   "file_extension": ".py",
   "mimetype": "text/x-python",
   "name": "python",
   "nbconvert_exporter": "python",
   "pygments_lexer": "ipython3",
   "version": "3.8.3"
  }
 },
 "nbformat": 4,
 "nbformat_minor": 2
}
