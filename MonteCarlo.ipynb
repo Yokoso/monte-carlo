{
 "cells": [
  {
   "cell_type": "markdown",
   "metadata": {},
   "source": [
    "# Użycie metody Monte Carlo do symulacji ruchów Browna\n",
    "\n",
    "\n",
    "30-06-2020 Tomasz Solga - 108138\n",
    "---"
   ]
  },
  {
   "cell_type": "markdown",
   "metadata": {},
   "source": [
    "### Program wykorzystujący generator liczb pseudolosowych do symulacji ruchów Browna\n",
    "1. [Pobranie liczby n ruchów cząsteczki](#input)  \n",
    "2. [Algorytm](#algorithm)\n",
    "3. [Długość wektora przesunięcia cząsteczki po *n* krokach](#vector)\n",
    "4. [Graficzna reprezentacja trajektorii przemieszczenia cząsteczki](#chart)\n",
    "5. [Wymagane zależności](#required)"
   ]
  },
  {
   "cell_type": "markdown",
   "metadata": {},
   "source": [
    "<a name = \"intro\"></a>\n",
    "Metody Monte carlo to ogólna nazwa metod rozwiązywania problemów występujących w różnych dziedzinach, np. fizyka, matematyka, ekonomia, wykorzystując generator liczb pseudolosowych.\n",
    "Problem będzie rozwiązywany w języku python następująco: cząsteczka startuje w punkcie (0, 0) i w tym punkcie tworzymy arkusz z danymi. Kolejnym krokiem jest losowanie kąta kierunku przemieszczenia cząsteczki - obliczanie za pomocą generatora liczb pseudolosowych z przedziału <0; 2π> i przemieszczenie jej w tym kierunku. Nowy punkt zostaje dopisany do arkusza z danymi. Pętla jest powtarzana *n* razy, gdzie *n* to ilość ruchów cząsteczki. Po *n* ruchach wyznaczamy położenie cząsteczki po *n* krokach, oraz wyznaczamy długość wektora przesunięcia cząsteczki po *n* krokach\n",
    "$$\\vec{\\mathbf{|S|}}=\\sqrt({x_n^2}+{y_n^2})$$ <br>\n",
    "Następnie dla wyznaczenia współrzędnych: <br>\n",
    "$$x_k = x_{k-1} + r * cos⁡φ $$ <br>\n",
    "$$y_k = y_{k-1} + r * cos⁡φ $$ <br>\n",
    "gdzie k = 0, 1, 2, ..., n; r = 1(długość jednego kroku); φ kąt kierunku ruchu cząsteczki.\n"
   ]
  },
  {
   "cell_type": "markdown",
   "metadata": {},
   "source": [
    "<br><br>\n",
    "# Program\n",
    "<br>\n",
    "- Wczytanie bibliotek wymaganych do poprawnego działania programu."
   ]
  },
  {
   "cell_type": "code",
   "execution_count": 1,
   "metadata": {},
   "outputs": [],
   "source": [
    "import math\n",
    "from random import uniform\n",
    "import matplotlib.pyplot as plt\n",
    "import pandas as pd\n",
    "import xlsxwriter\n",
    "import watermark"
   ]
  },
  {
   "cell_type": "markdown",
   "metadata": {},
   "source": [
    "- Wstępna inicjalizacja zmiennych oraz stałych."
   ]
  },
  {
   "cell_type": "code",
   "execution_count": 2,
   "metadata": {},
   "outputs": [],
   "source": [
    "variableInitialization = lambda counter: [0 for _ in range(counter)]\n",
    "x, y, s, fi = variableInitialization(4)\n",
    "PI = 3.14159\n",
    "i = 3"
   ]
  },
  {
   "cell_type": "markdown",
   "metadata": {},
   "source": [
    "<a name = \"input\"></a>\n",
    "## 1. Pobranie liczby ruchów cząsteczki"
   ]
  },
  {
   "cell_type": "code",
   "execution_count": 3,
   "metadata": {
    "scrolled": true
   },
   "outputs": [
    {
     "name": "stdout",
     "output_type": "stream",
     "text": [
      "Ilość ruchów? 10\n"
     ]
    }
   ],
   "source": [
    "n = int(input(\"Ilość ruchów? \"))"
   ]
  },
  {
   "cell_type": "markdown",
   "metadata": {},
   "source": [
    "- Stworzenie pliku danych `test.xlsx` \n",
    "- Inicjacja wyjściowych współrzędnych (0, 0)"
   ]
  },
  {
   "cell_type": "code",
   "execution_count": 4,
   "metadata": {},
   "outputs": [
    {
     "data": {
      "text/plain": [
       "0"
      ]
     },
     "execution_count": 4,
     "metadata": {},
     "output_type": "execute_result"
    }
   ],
   "source": [
    "workbook = xlsxwriter.Workbook('test.xlsx')\n",
    "worksheet = workbook.add_worksheet()\n",
    "worksheet.write('A' + str(1), 'x')\n",
    "worksheet.write('B' + str(1), 'y')\n",
    "worksheet.write('A' + str(2), 0)\n",
    "worksheet.write('B' + str(2), 0)"
   ]
  },
  {
   "cell_type": "markdown",
   "metadata": {},
   "source": [
    "<a name = \"algorithm\"></a>\n",
    "## 2. Algorytm\n",
    "- działanie algorytmu zostało szczegółowo opisane we [wstępie](#intro)"
   ]
  },
  {
   "cell_type": "code",
   "execution_count": 5,
   "metadata": {},
   "outputs": [
    {
     "name": "stdout",
     "output_type": "stream",
     "text": [
      "5.331874251397905\n",
      "0.5806161567509913\n",
      "-0.8141774244719072\n",
      "5.830539620029843\n",
      "1.4799093263118368\n",
      "-1.2515237348269947\n",
      "0.30638331027782945\n",
      "2.433339967760919\n",
      "-0.9499113810581354\n",
      "6.117957507768524\n",
      "3.4197208809294324\n",
      "-1.1143884133053443\n",
      "0.6303445579449997\n",
      "4.227545346773913\n",
      "-0.5249652780425011\n",
      "1.660869631497632\n",
      "4.13759378979842\n",
      "0.4709808637732522\n",
      "4.668073905743096\n",
      "4.09329321824746\n",
      "-0.5280373839881479\n",
      "4.35640901644058\n",
      "3.7447841603079777\n",
      "-1.465342796612088\n",
      "3.6991415348224947\n",
      "2.8962295952856074\n",
      "-1.9944506780310816\n"
     ]
    }
   ],
   "source": [
    "while i <= n+1:\n",
    "    fi = uniform(0, 32767) / (32767 + 1) * 2 * PI\n",
    "    # 0-32767 / ( 32767 + 1) * 2 * PI\n",
    "    x += math.cos(fi)\n",
    "    y += math.sin(fi)\n",
    "\n",
    "    print(fi)\n",
    "    print(x)\n",
    "    print(y)\n",
    "\n",
    "    worksheet.write('A' + str(i), x)\n",
    "    worksheet.write('B' + str(i), y)\n",
    "    i += 1\n"
   ]
  },
  {
   "cell_type": "markdown",
   "metadata": {},
   "source": [
    "<a name = \"vector\"></a>\n",
    "## 3. Obliczenie wektora przesunięcia cząsteczki po *n* krokach\n",
    "- wyznaczanie długości wektora przesunięcia cząsteczki po *n* krokach"
   ]
  },
  {
   "cell_type": "code",
   "execution_count": 6,
   "metadata": {},
   "outputs": [
    {
     "name": "stdout",
     "output_type": "stream",
     "text": [
      "\n",
      "\n",
      "\n",
      "Czasteczka po 10 krokach przemiescila sie o odleglosc 3.5165294504250744\n",
      "\n",
      "\n",
      "\n"
     ]
    }
   ],
   "source": [
    "s = math.sqrt(x*x + y*y)\n",
    "print(\"\\n\\n\\nCzasteczka po \" + str(n) + \" krokach przemiescila sie o odleglosc \" + str(s) + \"\\n\\n\\n\")"
   ]
  },
  {
   "cell_type": "code",
   "execution_count": 7,
   "metadata": {},
   "outputs": [],
   "source": [
    "workbook.close()"
   ]
  },
  {
   "cell_type": "markdown",
   "metadata": {},
   "source": [
    "<a name = \"chart\"></a>\n",
    "## 4. Graficzna reprezentacja trajektorii przemieszczenia cząsteczki\n",
    "- wykorzystanie biblioteki matplotolib do wizualizacji arkusza danych<br>\n",
    "df - data frame"
   ]
  },
  {
   "cell_type": "code",
   "execution_count": 8,
   "metadata": {},
   "outputs": [
    {
     "data": {
      "image/png": "[encoded data removed]",
      "text/plain": [
       "<Figure size 432x288 with 1 Axes>"
      ]
     },
     "metadata": {
      "needs_background": "light"
     },
     "output_type": "display_data"
    }
   ],
   "source": [
    "df = pd.read_excel('test.xlsx', 'Sheet1')\n",
    "plt.plot(df['x'], df['y'])\n",
    "plt.xlabel('x')\n",
    "plt.ylabel('y')\n",
    "plt.title('Symulacja ruchu cząsteczki ' + '(' + str(n) + ' ruchów)')\n",
    "plt.show()"
   ]
  },
  {
   "cell_type": "markdown",
   "metadata": {},
   "source": [
    "<a name = \"required\"></a>\n",
    "## 5. Wymagane zależności\n"
   ]
  },
  {
   "cell_type": "code",
   "execution_count": 9,
   "metadata": {},
   "outputs": [
    {
     "name": "stdout",
     "output_type": "stream",
     "text": [
      "CPython 3.8.3\n",
      "IPython 7.15.0\n",
      "\n",
      "pandas 1.0.5\n",
      "matplotlib 3.2.2\n",
      "xlsxwriter 1.2.9\n",
      "xlrd 1.2.0\n",
      "watermark 2.0.2\n",
      "\n",
      "compiler   : MSC v.1924 64 bit (AMD64)\n",
      "system     : Windows\n",
      "release    : 10\n",
      "machine    : AMD64\n",
      "processor  : Intel64 Family 6 Model 94 Stepping 3, GenuineIntel\n",
      "CPU cores  : 8\n",
      "interpreter: 64bit\n"
     ]
    }
   ],
   "source": [
    "%load_ext watermark\n",
    "%watermark -v -m -p pandas,matplotlib,xlsxwriter,xlrd,watermark"
   ]
  }
 ],
 "metadata": {
  "kernelspec": {
   "display_name": "Python 3",
   "language": "python",
   "name": "python3"
  },
  "language_info": {
   "codemirror_mode": {
    "name": "ipython",
    "version": 3
   },
   "file_extension": ".py",
   "mimetype": "text/x-python",
   "name": "python",
   "nbconvert_exporter": "python",
   "pygments_lexer": "ipython3",
   "version": "3.8.3"
  }
 },
 "nbformat": 4,
 "nbformat_minor": 2
}
